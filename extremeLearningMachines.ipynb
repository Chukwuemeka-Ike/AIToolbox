{
 "metadata": {
  "language_info": {
   "codemirror_mode": {
    "name": "ipython",
    "version": 3
   },
   "file_extension": ".py",
   "mimetype": "text/x-python",
   "name": "python",
   "nbconvert_exporter": "python",
   "pygments_lexer": "ipython3",
   "version": 3
  },
  "orig_nbformat": 2
 },
 "nbformat": 4,
 "nbformat_minor": 2,
 "cells": [
  {
   "source": [
    "# ELM Implementations on Multiple Datasets\n",
    "\n",
    "## Extreme Learning Machine\n",
    "The extreme learning machine (ELM) developed by Huang et al. is a linear (in the single-layer case) classifier that was designed to achieve high training speeds. In its simplest form, it is a single-layer feedforward neural network (SLFN) for classification and regression among other functions.\n",
    "\n",
    "Training involves randomizing the input weights and biases, and then performing a matrix inversion to get the output weights. This is done in one step.\n",
    "\n",
    "In this notebook, I train and evaluate multiple types of ELMs on different datasets as a means of familiarizing myself with the algorithms."
   ],
   "cell_type": "markdown",
   "metadata": {}
  },
  {
   "source": [
    "### Important Modules"
   ],
   "cell_type": "markdown",
   "metadata": {}
  },
  {
   "cell_type": "code",
   "execution_count": null,
   "metadata": {},
   "outputs": [],
   "source": [
    "import numpy as np\n",
    "import csv\n",
    "import random\n",
    "# import plotly.graph_objects as go\n",
    "import matplotlib.pyplot as plt\n",
    "import pandas as pd"
   ]
  },
  {
   "source": [
    "### Iris Dataset\n",
    "The first dataset I use is the Iris dataset which consists 3 highly separable classes\n",
    "\n",
    "There are 150 instances in the dataset (50 per class). Each instance is 4-dimensional, with the features described below\n",
    "\n",
    "1. sepal length in cm\n",
    "2. sepal width in cm\n",
    "3. petal length in cm\n",
    "4. petal width in cm\n",
    "5. class: \n",
    "    -- Iris Setosa\n",
    "    -- Iris Versicolour\n",
    "    -- Iris Virginica\n",
    "\n",
    "Armed with this information, we dive right into it. First, we load the dataset."
   ],
   "cell_type": "markdown",
   "metadata": {}
  },
  {
   "cell_type": "code",
   "execution_count": null,
   "metadata": {},
   "outputs": [],
   "source": [
    "filename = 'Datasets/Iris/iris.data'\n",
    "\n",
    "\n",
    "def loadData(filename):\n",
    "    data = pd.read_csv(filename, header=None)\n",
    "    X = data.to_numpy(dtype=None, copy=False)\n",
    "    \n",
    "    Y = X[:,-1]\n",
    "    X = X[:,:-1]\n",
    "    return X, Y\n",
    "\n",
    "def main():\n",
    "    X, Y = loadData(filename)"
   ]
  },
  {
   "cell_type": "code",
   "execution_count": null,
   "metadata": {},
   "outputs": [],
   "source": [
    "if __name__ == '__main__':\n",
    "    main()"
   ]
  }
 ]
}